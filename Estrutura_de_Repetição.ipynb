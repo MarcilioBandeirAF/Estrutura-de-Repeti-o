{
  "nbformat": 4,
  "nbformat_minor": 0,
  "metadata": {
    "colab": {
      "provenance": [],
      "authorship_tag": "ABX9TyPzR8FoctnZ91dTZJvHwZlc",
      "include_colab_link": true
    },
    "kernelspec": {
      "name": "python3",
      "display_name": "Python 3"
    },
    "language_info": {
      "name": "python"
    }
  },
  "cells": [
    {
      "cell_type": "markdown",
      "metadata": {
        "id": "view-in-github",
        "colab_type": "text"
      },
      "source": [
        "<a href=\"https://colab.research.google.com/github/MarcilioBandeirAF/Estrutura-de-Repeti-o/blob/main/Estrutura_de_Repeti%C3%A7%C3%A3o.ipynb\" target=\"_parent\"><img src=\"https://colab.research.google.com/assets/colab-badge.svg\" alt=\"Open In Colab\"/></a>"
      ]
    },
    {
      "cell_type": "code",
      "execution_count": 4,
      "metadata": {
        "colab": {
          "base_uri": "https://localhost:8080/"
        },
        "id": "IT4EX0uUmXGg",
        "outputId": "051916f0-3c58-4b92-fea5-4b2d93d0f434"
      },
      "outputs": [
        {
          "output_type": "stream",
          "name": "stdout",
          "text": [
            "informe um numero de 0 a 10: 11\n",
            "informe um numero de 0 a 10: 7\n",
            "nota válida\n"
          ]
        }
      ],
      "source": [
        "nota=float(input(\"informe um numero de 0 a 10: \"))\n",
        "while (nota>10) or (nota<0):\n",
        "\tnota=float(input(\"informe um numero de 0 a 10: \"))\n",
        "print('nota válida')"
      ]
    },
    {
      "cell_type": "code",
      "source": [
        "login=input('Login:')\n",
        "senha=input('Senha:')\n",
        "\n",
        "while login == senha:\n",
        "    print('senha deve ser diferente de login:')\n",
        "    senha = input('Senha:')\n",
        "print('cadastro aprovado')"
      ],
      "metadata": {
        "colab": {
          "base_uri": "https://localhost:8080/"
        },
        "id": "ArxMhzrfnoTr",
        "outputId": "1536927b-4428-4648-b48b-e072f2af742c"
      },
      "execution_count": 5,
      "outputs": [
        {
          "output_type": "stream",
          "name": "stdout",
          "text": [
            "Login:senha\n",
            "Senha:login\n",
            "cadastro aprovado\n"
          ]
        }
      ]
    },
    {
      "cell_type": "code",
      "source": [
        "#Nome: maior que 3 caracteres;\n",
        "\n",
        "nome=str(input(\"informe um nome--> \"))\n",
        "while ( len(nome) <=  3 ):\n",
        "\tnome=str(input(\"informe um nome--> \"))\n",
        "\n",
        "#Idade: entre 0 e 150;\n",
        "\n",
        "idade=int(input(\"informe a idade--> \"))\n",
        "while ( idade > 150 or idade < 0 ):\n",
        "\tidade=int(input(\"informe a idade--> \"))\n",
        "\t\n",
        "\t\n",
        "#Salário: maior que zero;\n",
        "salario=float(input(\"informe um salário--> \"))\n",
        "while ( salario < 0 ):\n",
        "\tsalario=float(input(\"informe um salário--> \"))\n",
        "\t\n",
        "#Sexo: 'f' ou 'm';\n",
        "\n",
        "sexo=str(input(\"informe a inicial do seu sexo--> \"))\n",
        "while  sexo !=\"f\" and sexo!=\"m\" :\n",
        "\tsexo=str(input(\"informe a inicial do seu sexo--> \"))\n",
        "\t\n",
        "#Estado Civil: 's', 'c', 'v', 'd';\n",
        "\n",
        "estado_civil=str(input(\"informe a inicial do seu estado civil-->\"))\n",
        "while ( estado_civil != \"s\" and estado_civil != \"c\" and estado_civil != \"v\" and estado_civil != \"d\" ):\n",
        "\testado_civil=str(input(\"informe a inicial do seu estado civil-->\"))"
      ],
      "metadata": {
        "colab": {
          "base_uri": "https://localhost:8080/"
        },
        "id": "5k5sHc0KqDIw",
        "outputId": "e2c7b854-2019-4424-f368-51de88e02036"
      },
      "execution_count": 6,
      "outputs": [
        {
          "name": "stdout",
          "output_type": "stream",
          "text": [
            "informe um nome--> carla\n",
            "informe a idade--> 35\n",
            "informe um salário--> 3.000\n",
            "informe a inicial do seu sexo--> s\n",
            "informe a inicial do seu sexo--> f\n",
            "informe a inicial do seu estado civil-->c\n"
          ]
        }
      ]
    },
    {
      "cell_type": "code",
      "source": [
        "\"\"\"\n",
        "Supondo que a população de um país A seja da ordem de 80.000 habitantes com uma taxa \n",
        "anual de crescimento de 3% \\e que a população de B seja 200.000 habitantes com uma taxa de \n",
        "crescimento de 1.5%. Faça um programa que calcule e escreva o número de anos \n",
        "necessários para que a população do país A ultrapasse ou iguale a população do país B, \n",
        "mantidas as taxas de crescimento\n",
        "\"\"\"\n",
        "\n",
        "a = 80000\n",
        "b = 200000\n",
        "ano = 0\n",
        "\n",
        "while a <= b:\n",
        "\ta += a * 0.03\n",
        "\tb += b * 0.015\n",
        "\tano += 1\n",
        "\n",
        "print ( \"A ultrapassa ou iguala a B em %d anos\" %ano )"
      ],
      "metadata": {
        "colab": {
          "base_uri": "https://localhost:8080/"
        },
        "id": "aZKuLOher2NR",
        "outputId": "195ab58c-4342-4906-e62c-73e93a47f759"
      },
      "execution_count": 7,
      "outputs": [
        {
          "output_type": "stream",
          "name": "stdout",
          "text": [
            "A ultrapassa ou iguala a B em 63 anos\n"
          ]
        }
      ]
    },
    {
      "cell_type": "code",
      "source": [
        "populaçãoA=float(input(\"informe a população da cidade A \"))\n",
        "populaçãoB=float(input(\"informe a população da cidade B \"))\n",
        "ano=0\n",
        "taxa_crescimentoA=float(input(\"informe a taxa de crescimento da população da cidade A \"))\n",
        "taxa_crescimentoB=float(input(\"informe a taxa de crescimento da população da cidade B \"))\n",
        "while populaçãoA < populaçãoB:\n",
        "\tpopulaçãoA+=round((populaçãoA*taxa_crescimentoA)/100)\n",
        "\tpopulaçãoB+=round((populaçãoB*taxa_crescimentoB)/100)\n",
        "\tano=ano+1\n",
        "\n",
        "print(\"levará\",ano,\"anos para população da cidade A ser maior que a cidade B\")\n",
        "print(\"populaçãoB-->\",populaçãoB,\"habitantes\")\n",
        "print(\"populaçãoA-->\", populaçãoA,\"habitantes\")"
      ],
      "metadata": {
        "colab": {
          "base_uri": "https://localhost:8080/"
        },
        "id": "pA1J0FsosnCp",
        "outputId": "3aaa0ddf-a506-4c7b-df45-60d1f004fa12"
      },
      "execution_count": 10,
      "outputs": [
        {
          "output_type": "stream",
          "name": "stdout",
          "text": [
            "informe a população da cidade A 80000\n",
            "informe a população da cidade B 200000\n",
            "informe a taxa de crescimento da população da cidade A 3\n",
            "informe a taxa de crescimento da população da cidade B 1.5\n",
            "levará 63 anos para população da cidade A ser maior que a cidade B\n",
            "populaçãoB--> 510969.0 habitantes\n",
            "populaçãoA--> 515034.0 habitantes\n"
          ]
        }
      ]
    },
    {
      "cell_type": "code",
      "source": [],
      "metadata": {
        "id": "BELC7U2_25jL"
      },
      "execution_count": null,
      "outputs": []
    },
    {
      "cell_type": "code",
      "source": [
        "lista = []\n",
        "n = 5\n",
        "for i in range(1, n + 1):\n",
        "    n = (int(input(\"Digite o número: \")))\n",
        "\n",
        "\n",
        "    lista.append(n)\n",
        "\n",
        "\n",
        "print(\"O maior número digitado foi: \" , max(lista))"
      ],
      "metadata": {
        "colab": {
          "base_uri": "https://localhost:8080/"
        },
        "id": "kjr-40t7104K",
        "outputId": "aa1feb76-8777-4f3d-8b57-42c1ee6a8f7f"
      },
      "execution_count": 9,
      "outputs": [
        {
          "output_type": "stream",
          "name": "stdout",
          "text": [
            "Digite o número: 5\n",
            "Digite o número: 6\n",
            "Digite o número: 7\n",
            "Digite o número: 8\n",
            "Digite o número: 9\n",
            "O maior número digitado foi:  9\n"
          ]
        }
      ]
    },
    {
      "cell_type": "code",
      "source": [
        "for n in range(1, 52, 2):\n",
        "    print(\"{}\" .format(n))"
      ],
      "metadata": {
        "colab": {
          "base_uri": "https://localhost:8080/"
        },
        "id": "P2hMngTp29M-",
        "outputId": "b3c9a2c9-0445-443d-d046-3ac630f84ac8"
      },
      "execution_count": 11,
      "outputs": [
        {
          "output_type": "stream",
          "name": "stdout",
          "text": [
            "1\n",
            "3\n",
            "5\n",
            "7\n",
            "9\n",
            "11\n",
            "13\n",
            "15\n",
            "17\n",
            "19\n",
            "21\n",
            "23\n",
            "25\n",
            "27\n",
            "29\n",
            "31\n",
            "33\n",
            "35\n",
            "37\n",
            "39\n",
            "41\n",
            "43\n",
            "45\n",
            "47\n",
            "49\n",
            "51\n"
          ]
        }
      ]
    },
    {
      "cell_type": "code",
      "source": [
        "a = int(input(\"Digite o limite inferior do intervalo: \"))\n",
        "b = int(input(\"Digite o limite superior do intervalo: \"))\n",
        "\n",
        "\n",
        "i = a\n",
        "\n",
        "\n",
        "while i <= b:\n",
        "    print(i)\n",
        "    i = i + 1\n",
        "\n",
        "\n",
        "print(\"A soma dos números informados é: \" , (a+b))"
      ],
      "metadata": {
        "colab": {
          "base_uri": "https://localhost:8080/"
        },
        "id": "H-lQfZul3GEx",
        "outputId": "4c656e0b-1b36-4166-a3fd-86cbd600414b"
      },
      "execution_count": 12,
      "outputs": [
        {
          "output_type": "stream",
          "name": "stdout",
          "text": [
            "Digite o limite inferior do intervalo: 1\n",
            "Digite o limite superior do intervalo: 2\n",
            "1\n",
            "2\n",
            "A soma dos números informados é:  3\n"
          ]
        }
      ]
    },
    {
      "cell_type": "code",
      "source": [
        "b = int(input(\"Informe a base: \"))\n",
        "e = int(input(\"Informe o expoente: \"))\n",
        "\n",
        "\n",
        "potencia = 1\n",
        "\n",
        "\n",
        "for c in range(e):\n",
        "    potencia *= b\n",
        "    c += 1\n",
        "\n",
        "\n",
        "print(\"{}^{} = {}\" .format(b, e, potencia))"
      ],
      "metadata": {
        "colab": {
          "base_uri": "https://localhost:8080/"
        },
        "id": "YBmyyKYv3VXX",
        "outputId": "58a2af03-049c-4bb9-ec55-452a9fd1eb0f"
      },
      "execution_count": 13,
      "outputs": [
        {
          "output_type": "stream",
          "name": "stdout",
          "text": [
            "Informe a base: 2\n",
            "Informe o expoente: 3\n",
            "2^3 = 8\n"
          ]
        }
      ]
    },
    {
      "cell_type": "code",
      "source": [
        "n = int(input(\"Quantos termos deseja encontrar? \"))\n",
        "a = 0\n",
        "b = 1\n",
        "termo = []\n",
        "\n",
        "\n",
        "for i in range(n):\n",
        "    termo.append(a)\n",
        "    a , b = b , a + b\n",
        "    print(termo)"
      ],
      "metadata": {
        "colab": {
          "base_uri": "https://localhost:8080/"
        },
        "id": "Ufkpfj_63m-T",
        "outputId": "96fd2f65-3282-4f31-89b1-4f1aee086eed"
      },
      "execution_count": 14,
      "outputs": [
        {
          "output_type": "stream",
          "name": "stdout",
          "text": [
            "Quantos termos deseja encontrar? 2\n",
            "[0]\n",
            "[0, 1]\n"
          ]
        }
      ]
    },
    {
      "cell_type": "code",
      "source": [
        "resp = 1\n",
        "cont = 1\n",
        "n = int(input(\"Deseja calcular o fatorial de qual número? \"))\n",
        "while (n < 0):\n",
        "    print(\"O número deve ser inteiro e positivo.\")\n",
        "    n = int(input(\"Deseja calcular o fatorial de qual número? \"))\n",
        "\n",
        "\n",
        "while cont <= n:\n",
        "    resp *= cont\n",
        "    cont += 1\n",
        "\n",
        "\n",
        "print(\"{}! = {}\" .format(n, resp))"
      ],
      "metadata": {
        "colab": {
          "base_uri": "https://localhost:8080/"
        },
        "id": "5wWypYif4Dpk",
        "outputId": "c7ab9ebc-93ca-489b-b336-f5dc65357351"
      },
      "execution_count": 15,
      "outputs": [
        {
          "output_type": "stream",
          "name": "stdout",
          "text": [
            "Deseja calcular o fatorial de qual número? 5\n",
            "5! = 120\n"
          ]
        }
      ]
    },
    {
      "cell_type": "code",
      "source": [
        "s = a = m = i = 0\n",
        "n = int(input(\"Quantos números você deseja digitar? \"))\n",
        "\n",
        "\n",
        "while (n <= 0) or (n > 1000):\n",
        "   \n",
        "    n = int(input(\"Digite um número maior que 0 e menor que 1000. Quantos números você deseja digitar? \"))\n",
        "\n",
        "\n",
        "while (i <= n):\n",
        "    x = int(input(\"digite um número: \"))\n",
        "    \n",
        "    s = s + x\n",
        "    i += 1\n",
        "    if i == 1:\n",
        "        m = a = x\n",
        "    else:\n",
        "        if x > m:\n",
        "            m = x\n",
        "    \n",
        "        if x <= a:\n",
        "            a = x\n",
        "\n",
        "\n",
        "        i += 1\n",
        "\n",
        "\n",
        "print(\"O maior número é {} e o menor é {}.\" .format(m, a))\n",
        "print(\"A soma dos números é {}\".format(s))"
      ],
      "metadata": {
        "colab": {
          "base_uri": "https://localhost:8080/"
        },
        "id": "OjfOKk1j4LzB",
        "outputId": "0c49268c-6d45-4e27-f59b-ec4555b40f09"
      },
      "execution_count": 17,
      "outputs": [
        {
          "output_type": "stream",
          "name": "stdout",
          "text": [
            "Quantos números você deseja digitar? 5\n",
            "digite um número: 1\n",
            "digite um número: 3\n",
            "digite um número: 2\n",
            "digite um número: 4\n",
            "O maior número é 4 e o menor é 1.\n",
            "A soma dos números é 10\n"
          ]
        }
      ]
    },
    {
      "cell_type": "code",
      "source": [
        "n = int(input(\"Informe um número: \"))\n",
        "x = 0\n",
        "for c in range(2,n):\n",
        "    if (n % c == 0):\n",
        "        print(\"O número informado é múltiplo de {}\" .format(c))\n",
        "        x += 1\n",
        "\n",
        "\n",
        "if(x==0):\n",
        "    print(\"É primo.\")\n",
        "\n",
        "\n",
        "else:\n",
        "    print(\"Por isso o número não é primo.\")"
      ],
      "metadata": {
        "colab": {
          "base_uri": "https://localhost:8080/"
        },
        "id": "4TMyVgNX5Fgj",
        "outputId": "0bac2c52-efd0-42b9-dbf2-bb3e8dbda00a"
      },
      "execution_count": 18,
      "outputs": [
        {
          "output_type": "stream",
          "name": "stdout",
          "text": [
            "Informe um número: 1\n",
            "É primo.\n"
          ]
        }
      ]
    }
  ]
}